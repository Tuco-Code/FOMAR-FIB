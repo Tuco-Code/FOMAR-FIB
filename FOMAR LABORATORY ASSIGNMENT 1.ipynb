{
 "cells": [
  {
   "cell_type": "markdown",
   "metadata": {},
   "source": [
    "\n",
    "\n",
    "## [FIB UPC] SPRING 2021\n",
    "### Daniel Santiago Corona\n",
    "***"
   ]
  },
  {
   "cell_type": "code",
   "execution_count": 2,
   "metadata": {},
   "outputs": [],
   "source": [
    "import numpy as np\n",
    "import sympy as sp\n",
    "import math\n",
    "\n",
    "sp.init_printing(use_unicode=True)"
   ]
  },
  {
   "cell_type": "markdown",
   "metadata": {},
   "source": [
    "***\n",
    "## STEPS 1 & 2 : Symbolic rotation matrix generation\n",
    "The following function generates a symbolic expression for a rotation matrix given the three euler angles, generating the expression equivalent to ROTZ(alpha) * ROTY(beta) * ROTX(gamma)"
   ]
  },
  {
   "cell_type": "code",
   "execution_count": 3,
   "metadata": {},
   "outputs": [],
   "source": [
    "def sym_euler_rot():\n",
    "    \n",
    "    alpha , beta , gamma = sp.symbols(u\"alpha beta gamma\")\n",
    "\n",
    "    rotX = sp.Matrix([[1,0,0],\n",
    "                     [0,sp.cos(gamma),-sp.sin(gamma)],\n",
    "                     [0,sp.sin(gamma),sp.cos(gamma)]])\n",
    "    \n",
    "    rotY = sp.Matrix([[sp.cos(beta),0,sp.sin(beta)],\n",
    "                      [0,1,0],\n",
    "                      [-sp.sin(beta),0,sp.cos(beta)]])\n",
    "    \n",
    "    rotZ = sp.Matrix([[sp.cos(alpha),-sp.sin(alpha),0],\n",
    "                      [sp.sin(alpha),sp.cos(alpha),0],\n",
    "                      [0,0,1]])\n",
    "    \n",
    "    return rotZ * rotY * rotX"
   ]
  },
  {
   "cell_type": "code",
   "execution_count": 4,
   "metadata": {},
   "outputs": [
    {
     "data": {
      "text/latex": [
       "$\\displaystyle \\left[\\begin{matrix}\\cos{\\left(\\alpha \\right)} \\cos{\\left(\\beta \\right)} & - \\sin{\\left(\\alpha \\right)} \\cos{\\left(\\gamma \\right)} + \\sin{\\left(\\beta \\right)} \\sin{\\left(\\gamma \\right)} \\cos{\\left(\\alpha \\right)} & \\sin{\\left(\\alpha \\right)} \\sin{\\left(\\gamma \\right)} + \\sin{\\left(\\beta \\right)} \\cos{\\left(\\alpha \\right)} \\cos{\\left(\\gamma \\right)}\\\\\\sin{\\left(\\alpha \\right)} \\cos{\\left(\\beta \\right)} & \\sin{\\left(\\alpha \\right)} \\sin{\\left(\\beta \\right)} \\sin{\\left(\\gamma \\right)} + \\cos{\\left(\\alpha \\right)} \\cos{\\left(\\gamma \\right)} & \\sin{\\left(\\alpha \\right)} \\sin{\\left(\\beta \\right)} \\cos{\\left(\\gamma \\right)} - \\sin{\\left(\\gamma \\right)} \\cos{\\left(\\alpha \\right)}\\\\- \\sin{\\left(\\beta \\right)} & \\sin{\\left(\\gamma \\right)} \\cos{\\left(\\beta \\right)} & \\cos{\\left(\\beta \\right)} \\cos{\\left(\\gamma \\right)}\\end{matrix}\\right]$"
      ],
      "text/plain": [
       "⎡cos(α)⋅cos(β)  -sin(α)⋅cos(γ) + sin(β)⋅sin(γ)⋅cos(α)  sin(α)⋅sin(γ) + sin(β)⋅\n",
       "⎢                                                                             \n",
       "⎢sin(α)⋅cos(β)  sin(α)⋅sin(β)⋅sin(γ) + cos(α)⋅cos(γ)   sin(α)⋅sin(β)⋅cos(γ) - \n",
       "⎢                                                                             \n",
       "⎣   -sin(β)                 sin(γ)⋅cos(β)                         cos(β)⋅cos(γ\n",
       "\n",
       "cos(α)⋅cos(γ)⎤\n",
       "             ⎥\n",
       "sin(γ)⋅cos(α)⎥\n",
       "             ⎥\n",
       ")            ⎦"
      ]
     },
     "execution_count": 4,
     "metadata": {},
     "output_type": "execute_result"
    }
   ],
   "source": [
    "#TESTING\n",
    "sym_euler_rot()"
   ]
  },
  {
   "cell_type": "markdown",
   "metadata": {},
   "source": [
    "The previous equation is not only the generic general 3x3 rotation matrix expressed in terms of the 3 variables alpha, beta and gamma (which will be used in Rz, Ry and Rx respectively), but also provide equations to relate the values of the matrix positions to the values of the angles alpha, beta and gamma. We will use this relation in the next section to find the angles given a rotation matrix."
   ]
  },
  {
   "cell_type": "markdown",
   "metadata": {},
   "source": [
    "***\n",
    "## STEP 3: Find the Euler angles that determine a given rotation matrix\n",
    "\n",
    "The following function will perform two tasks:\n",
    "1. Determine the three Euler angles that determine a given rotation matrix\n",
    "2. (Re)constructs a 3D rotation matrix given three independent parameters (given the M(1,1), M(3,1) and M(3,3) parameters of the original matrix)\n",
    "\n",
    "For these purposes the function takes as an input only three elements of the matrix, chosen to be the M(1,1), M(3,1) and M(3,3) elements of the matrix. These were chosen because they are enough (as independent values) to reconstruct the matrix and therefore to calculate the corresponding Euler values.\n",
    "\n",
    "The function's output consists of a tuple containing a NumPy array with the 3 euler values (alpha, beta and gamma for a Rz*Ry*Rx rotation) and a NumPy array with the values of the reconstructed matrix."
   ]
  },
  {
   "cell_type": "code",
   "execution_count": 5,
   "metadata": {},
   "outputs": [],
   "source": [
    "def rot_zyx(m11,m31,m33):\n",
    "    \n",
    "    try:\n",
    "        beta = -math.asin(m31)\n",
    "        alpha = math.acos(m11/math.cos(beta))\n",
    "        gamma = math.acos(m33/math.cos(beta))\n",
    "    except:\n",
    "        print(\"CAN'T CONSTRUCT A ROTATION MATRIX FROM THOSE PARAMETERS\")\n",
    "        print(\"USE VALID M11,M31,M33 VALUES OF A ROTATION MATRIX\")\n",
    "        return\n",
    "    \n",
    "    rotZYX = np.array([[math.cos(alpha)*math.cos(beta) , -math.cos(gamma)*math.sin(alpha) + math.cos(alpha)*math.sin(beta)*math.sin(gamma) , math.cos(alpha)*math.cos(gamma)*math.sin(beta) + math.sin(alpha)*math.sin(gamma)],\n",
    "              [math.cos(beta)*math.sin(alpha) , math.cos(alpha)*math.cos(gamma) + math.sin(alpha)*math.sin(beta)*math.sin(gamma) , math.cos(gamma)*math.sin(alpha)*math.sin(beta) - math.cos(alpha)*math.sin(gamma)],\n",
    "              [-math.sin(beta) , math.cos(beta)*math.sin(gamma) , math.cos(beta)*math.cos(gamma)]])\n",
    "    \n",
    "    return np.array([alpha,beta,gamma]),rotZYX"
   ]
  },
  {
   "cell_type": "markdown",
   "metadata": {},
   "source": [
    "The problem with the previous function is the singularities that might appear, since **asin(0) = 0** we lose information when **m31 = 0**, and we will not be able to tell the rotation in the Y axis properly.\n",
    "Furthermore, when the value of **m31 = 1** we find a division by 0 which will mess our calculations."
   ]
  },
  {
   "cell_type": "code",
   "execution_count": 6,
   "metadata": {},
   "outputs": [
    {
     "name": "stdout",
     "output_type": "stream",
     "text": [
      "[[ 0.53632    -0.49272736  0.68525952]\n",
      " [ 0.84401473  0.31309825 -0.43544073]\n",
      " [ 0.          0.8119047   0.58379   ]]\n",
      "\n",
      "[57.56652508 -0.         54.28244502]\n"
     ]
    }
   ],
   "source": [
    "#TESTING FOR THE GIVEN EXAMPLE (THE OUTPUT HAS BEEN TRANSFORMED FROM RADIANS TO DEGREES)\n",
    "ang, arr = rot_zyx(0.53632,0.0,0.58379)\n",
    "print(arr)\n",
    "print()\n",
    "print(ang * 180/math.pi)\n"
   ]
  },
  {
   "cell_type": "markdown",
   "metadata": {},
   "source": [
    "## STEP 4 & 5 & 6: Reading a rotation matrix and writing its Euler angles\n",
    "\n",
    "The following code will read a rotation matrix in the format specified by the lab's guidelines from a file named \"rijxcolumnes\" which must be in the same directory as this program, it will output the euler angles in a file named \"fisef.out\" which will also be located at the script's directory."
   ]
  },
  {
   "cell_type": "code",
   "execution_count": 9,
   "metadata": {},
   "outputs": [],
   "source": [
    "try:\n",
    "    file = open(\"rijxcolumnes\",\"r\")\n",
    "    text = file.read()\n",
    "    file.close();\n",
    "except:\n",
    "    print(\"A FILE NAMED 'rijxcolumnes' HAS NOT BEEN FOUND\")\n",
    "    quit()\n",
    "\n",
    "num_list = text.split()\n",
    "rij_cols = [float(n[0:-1]) for n in num_list[0:-1]]\n",
    "rij_cols.append(float(num_list[-1]))\n",
    "\n",
    "c1 = np.array(rij_cols[0:3])\n",
    "c2 = np.array(rij_cols[3:6])\n",
    "c3 = np.array(rij_cols[6:])\n",
    "\n",
    "R = np.column_stack((c1,c2,c3))\n",
    "\n",
    "angles , mat = rot_zyx(R[0][0],R[2][0],R[2][2])\n",
    "\n",
    "angles = angles * 180/math.pi\n",
    "output = \"{} , {} , {}\".format(angles[0],angles[1],angles[2])\n",
    "\n",
    "file = open(\"fisef.out\", \"w\")\n",
    "file.write(output)\n",
    "file.close()"
   ]
  },
  {
   "cell_type": "markdown",
   "metadata": {},
   "source": [
    "The angles obtained with our algorithm are proven to be correct, as the image generated with the command\n",
    "```bash\n",
    "povray +w800 +h600 +a0.2 p1_verifica.pov \n",
    "```\n",
    "shows no difference between the frame of reference calculated by the original rotation matrix and the one calculated by our Euler angles.\n",
    "\n",
    "![p1_verifica.png](p1_verifica.png)"
   ]
  },
  {
   "cell_type": "markdown",
   "metadata": {},
   "source": [
    "## STEP 7 & 8 & 9: Visualizing an animated rotation\n",
    "\n",
    "After getting to play with and understand the fundamentals of *.pov* files we generated animated versions of the rotations calculated by our algorithm.\n",
    "Knowing all animations would start with the identity matrix as initial state, we used as a final state the rotation matrix given as an example. The multiple *.png* images generated were transformed to *.mpg and .gif* files with the commands:\n",
    "\n",
    "```bash\n",
    "convert -delay 5 *png movie.gif\n",
    "convert -delay 5 *png movie.mpg\n",
    "```\n",
    "\n",
    "The result of this first animation can be seen in the *example_rot* files (both gif and mpg).\n",
    "\n",
    "After this, we modified the value of the variable responsible for the time change (named Factor) in the *.pov* files from a trivial\n",
    "\n",
    "```\n",
    "#declare Factor=clock; \n",
    "```\n",
    "to\n",
    "```\n",
    "#declare Factor=sin(pi*clock)*sin(pi*clock);\n",
    "```\n",
    "And the appearance of the sinusoidal function in the time variable will now provoke a cyclic animation, as one can see in the files *example_sin_rot* (both gif and mpg)."
   ]
  },
  {
   "cell_type": "markdown",
   "metadata": {},
   "source": [
    "## ID Card rotation matrix generation and visualization\n",
    "\n",
    "Using the algorithms we wrote down earlier we will generate a unique rotation matrix using digits from a fake ID card.\n",
    "\n",
    "```python\n",
    "ang , arr = rot_zyx(0.50,0.31,0.04) #39 40 13 05\n",
    "ang * 180/math.pi\n",
    "```\n",
    "\n",
    "This code will generate not only the 3 euler angles (in degrees) that we will need to describe the rotation but also the reconstructed matrix that we also need to feed POV-RAY."
   ]
  },
  {
   "cell_type": "code",
   "execution_count": 10,
   "metadata": {},
   "outputs": [
    {
     "name": "stdout",
     "output_type": "stream",
     "text": [
      "[ 58.27060774 -18.05923049  87.58870337]\n",
      "-- -- -- -- --\n",
      "[[ 0.5        -0.19867166  0.84292916]\n",
      " [ 0.80864083 -0.24130804 -0.53653558]\n",
      " [ 0.31        0.94989473  0.04      ]]\n"
     ]
    }
   ],
   "source": [
    "ang , arr = rot_zyx(0.50,0.31,0.04) #39 40 13 05\n",
    "print(ang * 180/math.pi)\n",
    "print(\"-- -- -- -- --\")\n",
    "print(arr)"
   ]
  },
  {
   "cell_type": "markdown",
   "metadata": {},
   "source": [
    "The videos generated for this matrix can be found in this project in both .mpg and .gif files, and also for the trivial and the sinusoidal time factor, named *dni_rot and dni_sin_rot*."
   ]
  },
  {
   "cell_type": "markdown",
   "metadata": {},
   "source": [
    "# -- -- -- -- -- -- -- -- -- -- --\n",
    "\n",
    "## STEP 10 : Choosing a different Euler angles characterization"
   ]
  },
  {
   "cell_type": "markdown",
   "metadata": {},
   "source": [
    "- New symbolic rotation matrix :\n",
    "    Instead of constructing a general rotation matrix using ROTz\\*ROTy\\*ROTx we will now use the ROTx\\*ROTy\\*ROTx configuration, as it is a valid Euler angles configuration."
   ]
  },
  {
   "cell_type": "code",
   "execution_count": 11,
   "metadata": {},
   "outputs": [],
   "source": [
    "def alt_sym_euler_rot():\n",
    "    \n",
    "    alpha , beta , gamma = sp.symbols(u\"alpha beta gamma\")\n",
    "\n",
    "    rotX2 = sp.Matrix([[1,0,0],\n",
    "                     [0,sp.cos(gamma),-sp.sin(gamma)],\n",
    "                     [0,sp.sin(gamma),sp.cos(gamma)]])\n",
    "    \n",
    "    rotY = sp.Matrix([[sp.cos(beta),0,sp.sin(beta)],\n",
    "                      [0,1,0],\n",
    "                      [-sp.sin(beta),0,sp.cos(beta)]])\n",
    "    \n",
    "    rotX = sp.Matrix([[1,0,0],\n",
    "                     [0,sp.cos(alpha),-sp.sin(alpha)],\n",
    "                     [0,sp.sin(alpha),sp.cos(alpha)]])\n",
    "    \n",
    "    return rotX * rotY * rotX2"
   ]
  },
  {
   "cell_type": "code",
   "execution_count": 12,
   "metadata": {},
   "outputs": [
    {
     "data": {
      "text/latex": [
       "$\\displaystyle \\left[\\begin{matrix}\\cos{\\left(\\beta \\right)} & \\sin{\\left(\\beta \\right)} \\sin{\\left(\\gamma \\right)} & \\sin{\\left(\\beta \\right)} \\cos{\\left(\\gamma \\right)}\\\\\\sin{\\left(\\alpha \\right)} \\sin{\\left(\\beta \\right)} & - \\sin{\\left(\\alpha \\right)} \\sin{\\left(\\gamma \\right)} \\cos{\\left(\\beta \\right)} + \\cos{\\left(\\alpha \\right)} \\cos{\\left(\\gamma \\right)} & - \\sin{\\left(\\alpha \\right)} \\cos{\\left(\\beta \\right)} \\cos{\\left(\\gamma \\right)} - \\sin{\\left(\\gamma \\right)} \\cos{\\left(\\alpha \\right)}\\\\- \\sin{\\left(\\beta \\right)} \\cos{\\left(\\alpha \\right)} & \\sin{\\left(\\alpha \\right)} \\cos{\\left(\\gamma \\right)} + \\sin{\\left(\\gamma \\right)} \\cos{\\left(\\alpha \\right)} \\cos{\\left(\\beta \\right)} & - \\sin{\\left(\\alpha \\right)} \\sin{\\left(\\gamma \\right)} + \\cos{\\left(\\alpha \\right)} \\cos{\\left(\\beta \\right)} \\cos{\\left(\\gamma \\right)}\\end{matrix}\\right]$"
      ],
      "text/plain": [
       "⎡    cos(β)                  sin(β)⋅sin(γ)                          sin(β)⋅cos\n",
       "⎢                                                                             \n",
       "⎢sin(α)⋅sin(β)   -sin(α)⋅sin(γ)⋅cos(β) + cos(α)⋅cos(γ)  -sin(α)⋅cos(β)⋅cos(γ) \n",
       "⎢                                                                             \n",
       "⎣-sin(β)⋅cos(α)  sin(α)⋅cos(γ) + sin(γ)⋅cos(α)⋅cos(β)   -sin(α)⋅sin(γ) + cos(α\n",
       "\n",
       "(γ)            ⎤\n",
       "               ⎥\n",
       "- sin(γ)⋅cos(α)⎥\n",
       "               ⎥\n",
       ")⋅cos(β)⋅cos(γ)⎦"
      ]
     },
     "execution_count": 12,
     "metadata": {},
     "output_type": "execute_result"
    }
   ],
   "source": [
    "#Testing\n",
    "alt_sym_euler_rot()"
   ]
  },
  {
   "cell_type": "markdown",
   "metadata": {},
   "source": [
    "\n",
    "Now we need to repeat our function to generate both a regenerated matrix and the Euler angles that codify the rotation. Notice the angle *gamma* now requires a more sofisticated operation because it needs to solve an equation of the form **A*sinx + B*cosx = C**.\n"
   ]
  },
  {
   "cell_type": "code",
   "execution_count": 13,
   "metadata": {},
   "outputs": [],
   "source": [
    "def rot_xyx2(m11,m31,m33):\n",
    "    \n",
    "    try:\n",
    "        beta = math.acos(m11)\n",
    "        alpha = math.acos(-m31/math.sin(beta))\n",
    "\n",
    "        A = -math.sin(alpha)\n",
    "        B = math.cos(beta) * math.cos(alpha)\n",
    "        gamma = -math.asin(m33/math.sqrt(A*A + B*B)) - math.atan(B/A)\n",
    "    except:\n",
    "        print(\"CAN'T CONSTRUCT A ROTATION MATRIX FROM THOSE PARAMETERS\")\n",
    "        print(\"USE VALID M11,M31,M13 VALUES OF A ROTATION MATRIX\")\n",
    "        return\n",
    "    \n",
    "    rotXYX = np.array([[math.cos(beta) , math.sin(beta)*math.sin(gamma) , math.cos(gamma)*math.sin(beta) ],\n",
    "              [math.sin(alpha)*math.sin(beta) , -math.sin(alpha)*math.sin(gamma)*math.cos(beta) + math.cos(alpha)*math.cos(gamma) , -math.sin(alpha)*math.cos(beta)*math.cos(gamma) - math.sin(gamma)*math.cos(alpha) ],\n",
    "              [-math.sin(beta)*math.cos(alpha) , math.sin(alpha)*math.cos(gamma) + math.sin(gamma)*math.cos(alpha)*math.cos(beta) , -math.sin(alpha)*math.sin(gamma) + math.cos(alpha)*math.cos(beta)*math.cos(gamma) ]])\n",
    "    \n",
    "    return np.array([alpha,beta,gamma]),rotXYX"
   ]
  },
  {
   "cell_type": "code",
   "execution_count": 14,
   "metadata": {},
   "outputs": [
    {
     "name": "stdout",
     "output_type": "stream",
     "text": [
      "[110.97479154  60.         -13.26211932] \n",
      "\n",
      " [[ 0.5        -0.19867166  0.84292916]\n",
      " [ 0.80864083 -0.24130804 -0.53653558]\n",
      " [ 0.31        0.94989473  0.04      ]]\n"
     ]
    }
   ],
   "source": [
    "#TESTING\n",
    "angles,x = rot_xyx2(0.50,0.31,0.04)\n",
    "angles = angles * 180/math.pi\n",
    "print(angles,'\\n'*2,x)\n",
    "\n",
    "#for fil in x:\n",
    " #   for col in fil:\n",
    "  #      print(col, end=', ')"
   ]
  },
  {
   "cell_type": "markdown",
   "metadata": {},
   "source": [
    "\n",
    "\n",
    "Repeating the reading and writing of the files involved in the *POV-RAY* process. The two versions for this reading and writing, each one for a different Euler configuration, will be attached as two separate python scripts for ease of use.\n",
    "\n"
   ]
  },
  {
   "cell_type": "code",
   "execution_count": 15,
   "metadata": {},
   "outputs": [],
   "source": [
    "try:\n",
    "    file = open(\"rijxcolumnes\",\"r\")\n",
    "    text = file.read()\n",
    "    file.close();\n",
    "except:\n",
    "    print(\"A FILE NAMED 'rijxcolumnes' HAS NOT BEEN FOUND\")\n",
    "    quit()\n",
    "\n",
    "num_list = text.split()\n",
    "rij_cols = [float(n[0:-1]) for n in num_list[0:-1]]\n",
    "rij_cols.append(float(num_list[-1]))\n",
    "\n",
    "c1 = np.array(rij_cols[0:3])\n",
    "c2 = np.array(rij_cols[3:6])\n",
    "c3 = np.array(rij_cols[6:])\n",
    "\n",
    "R = np.column_stack((c1,c2,c3))\n",
    "\n",
    "angles , mat = rot_xyx2(R[0][0],R[2][0],R[2][2])\n",
    "\n",
    "angles = angles * 180/math.pi\n",
    "output = \"{} , {} , {}\".format(angles[0],angles[1],angles[2])\n",
    "\n",
    "file = open(\"fisef.out\", \"w\")\n",
    "file.write(output)\n",
    "file.close()"
   ]
  },
  {
   "cell_type": "markdown",
   "metadata": {},
   "source": [
    "Now, after modifying the POV_RAY scripts to adapt to the new rotations by adding the following lines:\n",
    "\n",
    "```\n",
    "#fopen Fis \"fisef.out\" read\n",
    "#read (Fis,f1x2,f1y,f1x)\n",
    "...\n",
    "object{Roda_dentada rotate Factor*f1x*x rotate Factor*f1y*y rotate Factor*f1x2*x}\n",
    "\n",
    "object {SRef rotate Factor*f1x*x rotate Factor*f1y*y rotate Factor*f1x2*x}\n",
    "```\n",
    "\n",
    "We can execute POV_RAY again to obtain the results in the *.gif and .mpg* files XYX_dni_rot and XYX_dni_sin_rot, one can easily realize that the rotation even if performed over different rotation axis and angles is equivalent as it ends with the same pose as the previous set of rotations."
   ]
  },
  {
   "cell_type": "markdown",
   "metadata": {},
   "source": [
    "# Conclusions \n",
    "All tasks in this laboratory assignment have been succesfully completed, the final report will organize the different scripts, test inputs and media generated in different directories.\n",
    "The theory concepts worked in this assignment were already thoroughly worked at class, so the biggest difficulties were related to learn POV-RAY and the use of Python as a numerical computing environment."
   ]
  }
 ],
 "metadata": {
  "kernelspec": {
   "display_name": "Python 3",
   "language": "python",
   "name": "python3"
  },
  "language_info": {
   "codemirror_mode": {
    "name": "ipython",
    "version": 3
   },
   "file_extension": ".py",
   "mimetype": "text/x-python",
   "name": "python",
   "nbconvert_exporter": "python",
   "pygments_lexer": "ipython3",
   "version": "3.7.3"
  }
 },
 "nbformat": 4,
 "nbformat_minor": 4
}
